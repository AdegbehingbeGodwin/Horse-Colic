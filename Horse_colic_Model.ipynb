{
 "cells": [
  {
   "cell_type": "markdown",
   "metadata": {},
   "source": [
    "# Agenda\n",
    "* Problem statement \n",
    "* About Dataset\n",
    "* Loading Data\n",
    "* Data Preprocessing\n",
    "* Building Model\n",
    "* Model Performance\n"
   ]
  },
  {
   "cell_type": "markdown",
   "metadata": {},
   "source": [
    "# The Problem Statement\n",
    "\n",
    "Building  a classifier to predict whether or not an horse is likely to survive colic based upon medical conditions.\n",
    "\n",
    "the \"outcome\" variable in the data is the (Target).\n",
    "\n",
    "\n",
    "\n",
    "Data Reference : http://archive.ics.uci.edu/ml/datasets/Horse+Colic"
   ]
  },
  {
   "cell_type": "markdown",
   "metadata": {},
   "source": [
    "# About Data\n",
    "\n",
    "1. TItle: Horse Colic database\n",
    "\n",
    "2. Source Information\n",
    "   -- Creators: Mary McLeish & Matt Cecile\n",
    "\t  \tDepartment of Computer Science\n",
    "\t\tUniversity of Guelph\n",
    "\t\tGuelph, Ontario, Canada N1G 2W1\n",
    "\t\tmdmcleish@water.waterloo.edu\n",
    "   -- Donor:    Will Taylor (taylor@pluto.arc.nasa.gov)\n",
    "   -- Date:     8/6/89\n",
    "\n",
    "3. Past Usage:\n",
    "   -- Unknown\n",
    "\n",
    "4. Relevant Information:\n",
    "\n",
    "   -- 2 data files\n",
    "      -- horse-colic.data: 300 training instances\n",
    "      -- horse-colic.test: 68 test instances\n",
    "   -- Possible class attributes: 24 (whether lesion is surgical)\n",
    "     -- others include: 23, 25, 26, and 27\n",
    "   -- Many Data types: (continuous, discrete, and nominal)\n",
    "\n",
    "5. Number of Instances: 368 (300 for training, 68 for testing)\n",
    "\n",
    "6. Number of attributes: 28"
   ]
  },
  {
   "cell_type": "markdown",
   "metadata": {},
   "source": [
    "# Loading Libraries"
   ]
  },
  {
   "cell_type": "code",
   "execution_count": 38,
   "metadata": {},
   "outputs": [],
   "source": [
    "#Importing Libraries\n",
    "\n",
    "import numpy as np\n",
    "import pandas as pd\n",
    "\n",
    "import matplotlib.pyplot as plt\n",
    "import seaborn as sns\n",
    "%matplotlib inline\n",
    "\n",
    "import warnings\n",
    "warnings.filterwarnings('ignore')\n",
    "\n",
    "from sklearn.metrics import classification_report\n",
    "from sklearn.preprocessing import StandardScaler\n",
    "from sklearn.model_selection import train_test_split\n",
    "\n",
    "from sklearn.feature_selection import mutual_info_classif\n",
    "from sklearn.model_selection import KFold, cross_val_score\n",
    "from xgboost import XGBClassifier\n",
    "\n",
    "import numpy as np\n",
    "import matplotlib.pyplot as plt\n",
    "%matplotlib inline\n",
    "import seaborn as sns; sns.set(style = 'darkgrid')\n",
    "\n",
    "from sklearn.preprocessing import StandardScaler, LabelEncoder\n",
    "from sklearn.model_selection import train_test_split, GridSearchCV, RandomizedSearchCV, KFold, cross_val_score\n",
    "\n",
    "from sklearn.ensemble import AdaBoostClassifier, RandomForestClassifier, GradientBoostingClassifier\n",
    "\n",
    "from xgboost import XGBClassifier\n",
    "from sklearn.neighbors import KNeighborsClassifier\n",
    "from sklearn.linear_model import LogisticRegression\n",
    "\n",
    "\n",
    "from sklearn.metrics import accuracy_score, confusion_matrix, classification_report, f1_score\n",
    "\n",
    "import warnings\n",
    "warnings.filterwarnings(action = 'ignore')"
   ]
  },
  {
   "cell_type": "markdown",
   "metadata": {},
   "source": [
    "# Loading Data"
   ]
  },
  {
   "cell_type": "code",
   "execution_count": 39,
   "metadata": {},
   "outputs": [],
   "source": [
    "#load data\n",
    "df =pd.read_csv(\"clean_train1s.csv\")\n",
    "df_test =pd.read_csv(\"clean_test2s.csv\")"
   ]
  },
  {
   "cell_type": "markdown",
   "metadata": {},
   "source": [
    "# Previewing the Data"
   ]
  },
  {
   "cell_type": "code",
   "execution_count": 40,
   "metadata": {},
   "outputs": [
    {
     "data": {
      "text/html": [
       "<div>\n",
       "<style scoped>\n",
       "    .dataframe tbody tr th:only-of-type {\n",
       "        vertical-align: middle;\n",
       "    }\n",
       "\n",
       "    .dataframe tbody tr th {\n",
       "        vertical-align: top;\n",
       "    }\n",
       "\n",
       "    .dataframe thead th {\n",
       "        text-align: right;\n",
       "    }\n",
       "</style>\n",
       "<table border=\"1\" class=\"dataframe\">\n",
       "  <thead>\n",
       "    <tr style=\"text-align: right;\">\n",
       "      <th></th>\n",
       "      <th>Unnamed: 0</th>\n",
       "      <th>surgery</th>\n",
       "      <th>Age</th>\n",
       "      <th>rectal temperature</th>\n",
       "      <th>pulse</th>\n",
       "      <th>respiratory rate</th>\n",
       "      <th>temperature of extremities</th>\n",
       "      <th>peripheral pulse</th>\n",
       "      <th>mucous membranes</th>\n",
       "      <th>capillary refill time</th>\n",
       "      <th>...</th>\n",
       "      <th>total protein</th>\n",
       "      <th>abdominocentesis appearance</th>\n",
       "      <th>abdomcentesis total protein</th>\n",
       "      <th>outcome</th>\n",
       "      <th>surgical lesion</th>\n",
       "      <th>cp_data</th>\n",
       "      <th>site of lesion</th>\n",
       "      <th>type</th>\n",
       "      <th>subtype</th>\n",
       "      <th>specific code</th>\n",
       "    </tr>\n",
       "  </thead>\n",
       "  <tbody>\n",
       "    <tr>\n",
       "      <th>0</th>\n",
       "      <td>0</td>\n",
       "      <td>1.0</td>\n",
       "      <td>1</td>\n",
       "      <td>39.2</td>\n",
       "      <td>88.0</td>\n",
       "      <td>20.0</td>\n",
       "      <td>3.0</td>\n",
       "      <td>1</td>\n",
       "      <td>4</td>\n",
       "      <td>1</td>\n",
       "      <td>...</td>\n",
       "      <td>85.0</td>\n",
       "      <td>2</td>\n",
       "      <td>2.0</td>\n",
       "      <td>2</td>\n",
       "      <td>2</td>\n",
       "      <td>2</td>\n",
       "      <td>2.0</td>\n",
       "      <td>2.0</td>\n",
       "      <td>1</td>\n",
       "      <td>8</td>\n",
       "    </tr>\n",
       "    <tr>\n",
       "      <th>1</th>\n",
       "      <td>1</td>\n",
       "      <td>2.0</td>\n",
       "      <td>1</td>\n",
       "      <td>38.3</td>\n",
       "      <td>40.0</td>\n",
       "      <td>24.0</td>\n",
       "      <td>1.0</td>\n",
       "      <td>1</td>\n",
       "      <td>3</td>\n",
       "      <td>1</td>\n",
       "      <td>...</td>\n",
       "      <td>6.7</td>\n",
       "      <td>2</td>\n",
       "      <td>2.0</td>\n",
       "      <td>1</td>\n",
       "      <td>2</td>\n",
       "      <td>1</td>\n",
       "      <td>0.0</td>\n",
       "      <td>1.0</td>\n",
       "      <td>1</td>\n",
       "      <td>4</td>\n",
       "    </tr>\n",
       "  </tbody>\n",
       "</table>\n",
       "<p>2 rows × 29 columns</p>\n",
       "</div>"
      ],
      "text/plain": [
       "   Unnamed: 0  surgery  Age  rectal temperature  pulse  respiratory rate  \\\n",
       "0           0      1.0    1                39.2   88.0              20.0   \n",
       "1           1      2.0    1                38.3   40.0              24.0   \n",
       "\n",
       "   temperature of extremities  peripheral pulse  mucous membranes  \\\n",
       "0                         3.0                 1                 4   \n",
       "1                         1.0                 1                 3   \n",
       "\n",
       "   capillary refill time  ...  total protein  abdominocentesis appearance  \\\n",
       "0                      1  ...           85.0                            2   \n",
       "1                      1  ...            6.7                            2   \n",
       "\n",
       "   abdomcentesis total protein  outcome  surgical lesion  cp_data  \\\n",
       "0                          2.0        2                2        2   \n",
       "1                          2.0        1                2        1   \n",
       "\n",
       "   site of lesion  type  subtype  specific code  \n",
       "0             2.0   2.0        1              8  \n",
       "1             0.0   1.0        1              4  \n",
       "\n",
       "[2 rows x 29 columns]"
      ]
     },
     "execution_count": 40,
     "metadata": {},
     "output_type": "execute_result"
    }
   ],
   "source": [
    "df.head(2)"
   ]
  },
  {
   "cell_type": "code",
   "execution_count": 41,
   "metadata": {},
   "outputs": [
    {
     "data": {
      "text/plain": [
       "((299, 29), (67, 29))"
      ]
     },
     "execution_count": 41,
     "metadata": {},
     "output_type": "execute_result"
    }
   ],
   "source": [
    "df.shape,df_test.shape"
   ]
  },
  {
   "cell_type": "code",
   "execution_count": 42,
   "metadata": {},
   "outputs": [
    {
     "data": {
      "text/plain": [
       "Index(['Unnamed: 0', 'surgery', 'Age', 'rectal temperature', 'pulse',\n",
       "       'respiratory rate', 'temperature of extremities', 'peripheral pulse',\n",
       "       'mucous membranes', 'capillary refill time', 'pain', 'peristalsis',\n",
       "       'abdominal distension', 'nasogastric tube', 'nasogastric reflux',\n",
       "       'nasogastric reflux PH', 'rectal examination', 'abdomen',\n",
       "       'packed cell volume', 'total protein', 'abdominocentesis appearance',\n",
       "       'abdomcentesis total protein', 'outcome', 'surgical lesion', 'cp_data',\n",
       "       'site of lesion', 'type', 'subtype', 'specific code'],\n",
       "      dtype='object')"
      ]
     },
     "execution_count": 42,
     "metadata": {},
     "output_type": "execute_result"
    }
   ],
   "source": [
    "df_test.columns"
   ]
  },
  {
   "cell_type": "code",
   "execution_count": 43,
   "metadata": {},
   "outputs": [
    {
     "data": {
      "text/plain": [
       "((299, 28), (67, 28))"
      ]
     },
     "execution_count": 43,
     "metadata": {},
     "output_type": "execute_result"
    }
   ],
   "source": [
    "#dropping irrelevant columns\n",
    "col=[\"Unnamed: 0\"]\n",
    "df=df.drop(col,axis=1)\n",
    "df_test = df_test.drop(col,axis=1)\n",
    "\n",
    "#shape of dataset\n",
    "df.shape,df_test.shape"
   ]
  },
  {
   "cell_type": "code",
   "execution_count": 44,
   "metadata": {},
   "outputs": [
    {
     "data": {
      "text/plain": [
       "surgery                        float64\n",
       "Age                              int64\n",
       "rectal temperature             float64\n",
       "pulse                          float64\n",
       "respiratory rate               float64\n",
       "temperature of extremities     float64\n",
       "peripheral pulse                 int64\n",
       "mucous membranes                 int64\n",
       "capillary refill time            int64\n",
       "pain                             int64\n",
       "peristalsis                      int64\n",
       "abdominal distension             int64\n",
       "nasogastric tube                 int64\n",
       "nasogastric reflux             float64\n",
       "nasogastric reflux PH            int64\n",
       "rectal examination               int64\n",
       "abdomen                          int64\n",
       "packed cell volume               int64\n",
       "total protein                  float64\n",
       "abdominocentesis appearance      int64\n",
       "abdomcentesis total protein    float64\n",
       "outcome                          int64\n",
       "surgical lesion                  int64\n",
       "cp_data                          int64\n",
       "site of lesion                 float64\n",
       "type                           float64\n",
       "subtype                          int64\n",
       "specific code                    int64\n",
       "dtype: object"
      ]
     },
     "execution_count": 44,
     "metadata": {},
     "output_type": "execute_result"
    }
   ],
   "source": [
    "#checking the data types of the variables\n",
    "df.dtypes"
   ]
  },
  {
   "cell_type": "markdown",
   "metadata": {},
   "source": [
    "# Preprocessing the dataset"
   ]
  },
  {
   "cell_type": "code",
   "execution_count": 45,
   "metadata": {},
   "outputs": [],
   "source": [
    "#splitting data into input and Target variable\n",
    "X= df.drop('outcome', axis=1)\n",
    "y= df[\"outcome\"]\n",
    "\n",
    "\n",
    "#standardizing the dataset\n",
    "scaler =StandardScaler()\n",
    "X_scaled =scaler.fit_transform(X)\n",
    "\n",
    "#splitting the dataset \n",
    "X_train, X_test, y_train, y_test = train_test_split(X_scaled, y, test_size = 0.3, random_state = 42)\n"
   ]
  },
  {
   "cell_type": "markdown",
   "metadata": {},
   "source": [
    "# Random Forest Classifier"
   ]
  },
  {
   "cell_type": "code",
   "execution_count": 46,
   "metadata": {},
   "outputs": [
    {
     "name": "stdout",
     "output_type": "stream",
     "text": [
      "The accuracy score is: 0.7888888888888889 and the f1 score is 0.7886519516149146\n",
      "\n",
      "\n",
      "              precision    recall  f1-score   support\n",
      "\n",
      "           1       0.80      0.82      0.81        49\n",
      "           2       0.78      0.76      0.77        41\n",
      "\n",
      "    accuracy                           0.79        90\n",
      "   macro avg       0.79      0.79      0.79        90\n",
      "weighted avg       0.79      0.79      0.79        90\n",
      "\n"
     ]
    },
    {
     "data": {
      "image/png": "[encoded data removed]",
      "text/plain": [
       "<Figure size 576x432 with 2 Axes>"
      ]
     },
     "metadata": {},
     "output_type": "display_data"
    }
   ],
   "source": [
    "#creating classifier\n",
    "rfc= RandomForestClassifier()\n",
    "\n",
    "#training the model using the training sets\n",
    "rfc.fit(X_train,y_train)\n",
    "\n",
    "#predicting the test set\n",
    "y_pred=rfc.predict(X_test)\n",
    "\n",
    "# Measuring the accuracy of the model\n",
    "#\n",
    "print(f'The accuracy score is: {accuracy_score(y_test, y_pred)} and the f1 score is {f1_score(y_test, y_pred,average=\"weighted\")}')\n",
    "print('\\n')\n",
    "print(f'{classification_report(y_test, y_pred)}')\n",
    "\n",
    "#confusion_matrix(y_test, y_pred)\n",
    "from sklearn.metrics import confusion_matrix\n",
    "cm = confusion_matrix(y_test, y_pred)\n",
    "plt.figure(figsize=(8,6))\n",
    "sns.heatmap(cm, annot=True, fmt=\".2f\", linewidths=.5, square =True, cmap = 'Blues_r');\n",
    "plt.ylabel('Actual label')\n",
    "plt.xlabel('Predicted label')\n",
    "all_sample_title = 'Confusion Matrix'\n",
    "plt.title(all_sample_title, size = 15)\n",
    "plt.show()"
   ]
  },
  {
   "cell_type": "code",
   "execution_count": 47,
   "metadata": {},
   "outputs": [
    {
     "name": "stdout",
     "output_type": "stream",
     "text": [
      "Training set score: 1.0000\n",
      "Test set score: 0.7889\n"
     ]
    }
   ],
   "source": [
    "# print the scores on training and test set\n",
    "\n",
    "print('Training set score: {:.4f}'.format(rfc.score(X_train, y_train)))\n",
    "\n",
    "print('Test set score: {:.4f}'.format(rfc.score(X_test, y_test)))"
   ]
  },
  {
   "cell_type": "markdown",
   "metadata": {},
   "source": [
    "# Hyperparameter Tuning using Hyperopt"
   ]
  },
  {
   "cell_type": "code",
   "execution_count": 82,
   "metadata": {},
   "outputs": [],
   "source": [
    "from hyperopt import fmin,tpe,hp,Trials,STATUS_OK\n",
    "from hyperopt.pyll.base import scope\n",
    "from sklearn.model_selection import cross_val_score\n",
    "\n",
    "\n",
    "space = {\"n_estimators\":hp.choice(\"n_estimators\",[100,200,300,400,500,600]),\n",
    "        \"max_depth\": hp.quniform(\"max_depth\", 1, 15,1),\n",
    "         \"criterion\":hp.choice(\"criterion\",[\"gini\",\"entropy\"]),\n",
    "        }\n",
    "\n",
    "#define objective function\n",
    "\n",
    "def hyperparameter_tuning(params):\n",
    "    clf=RandomForestClassifier(**params,n_jobs=-1)\n",
    "    acc =cross_val_score(clf,X_scaled,y,scoring=\"accuracy\").mean()\n",
    "    return {\"loss\":-acc,\"status\":STATUS_OK}\n",
    "\n",
    "\n",
    "\n",
    "trials =Trials()\n",
    "\n",
    "best=fmin(fn=hyperparameter_tuning, space= space,\n",
    "         algo=tpe.suggest,max_evals=100,trials=trials)\n",
    "\n",
    "print(\"best: {}\".format(best))"
   ]
  },
  {
   "cell_type": "code",
   "execution_count": 48,
   "metadata": {},
   "outputs": [
    {
     "name": "stdout",
     "output_type": "stream",
     "text": [
      "The accuracy score is: 0.8111111111111111 and the f1 score is 0.8095630367475027\n",
      "\n",
      "\n",
      "              precision    recall  f1-score   support\n",
      "\n",
      "           1       0.80      0.88      0.83        49\n",
      "           2       0.83      0.73      0.78        41\n",
      "\n",
      "    accuracy                           0.81        90\n",
      "   macro avg       0.81      0.80      0.81        90\n",
      "weighted avg       0.81      0.81      0.81        90\n",
      "\n"
     ]
    },
    {
     "data": {
      "image/png": "[encoded data removed]",
      "text/plain": [
       "<Figure size 576x432 with 2 Axes>"
      ]
     },
     "metadata": {},
     "output_type": "display_data"
    }
   ],
   "source": [
    "\n",
    "#creating a Random classifier using hyperparameters \n",
    "clf= RandomForestClassifier(n_estimators=20 , max_depth = 13 ,criterion = \"entropy\")\n",
    "\n",
    "\n",
    "#training the model using the training sets\n",
    "clf.fit(X_train,y_train)\n",
    "\n",
    "#predicting the test set\n",
    "y_pred=clf.predict(X_test)\n",
    "\n",
    "# Measuring the accuracy of the model\n",
    "#\n",
    "print(f'The accuracy score is: {accuracy_score(y_test, y_pred)} and the f1 score is {f1_score(y_test, y_pred,average=\"weighted\")}')\n",
    "print('\\n')\n",
    "print(f'{classification_report(y_test, y_pred)}')\n",
    "\n",
    "from sklearn.metrics import confusion_matrix\n",
    "cm = confusion_matrix(y_test, y_pred)\n",
    "plt.figure(figsize=(8,6))\n",
    "sns.heatmap(cm, annot=True, fmt=\".2f\", linewidths=.5, square =True, cmap = 'Blues_r');\n",
    "plt.ylabel('Actual label')\n",
    "plt.xlabel('Predicted label')\n",
    "all_sample_title = 'Confusion Matrix'\n",
    "plt.title(all_sample_title, size = 15)\n",
    "plt.show()"
   ]
  },
  {
   "cell_type": "code",
   "execution_count": 49,
   "metadata": {},
   "outputs": [
    {
     "name": "stdout",
     "output_type": "stream",
     "text": [
      "Training set score: 0.9904\n",
      "Test set score: 0.8111\n"
     ]
    }
   ],
   "source": [
    "# print the scores on training and test set\n",
    "\n",
    "print('Training set score: {:.4f}'.format(clf.score(X_train, y_train)))\n",
    "\n",
    "print('Test set score: {:.4f}'.format(clf.score(X_test, y_test)))"
   ]
  },
  {
   "cell_type": "markdown",
   "metadata": {},
   "source": [
    "# Feature Importance"
   ]
  },
  {
   "cell_type": "code",
   "execution_count": 50,
   "metadata": {},
   "outputs": [
    {
     "data": {
      "text/html": [
       "<div>\n",
       "<style scoped>\n",
       "    .dataframe tbody tr th:only-of-type {\n",
       "        vertical-align: middle;\n",
       "    }\n",
       "\n",
       "    .dataframe tbody tr th {\n",
       "        vertical-align: top;\n",
       "    }\n",
       "\n",
       "    .dataframe thead th {\n",
       "        text-align: right;\n",
       "    }\n",
       "</style>\n",
       "<table border=\"1\" class=\"dataframe\">\n",
       "  <thead>\n",
       "    <tr style=\"text-align: right;\">\n",
       "      <th></th>\n",
       "      <th>importance</th>\n",
       "    </tr>\n",
       "    <tr>\n",
       "      <th>feature</th>\n",
       "      <th></th>\n",
       "    </tr>\n",
       "  </thead>\n",
       "  <tbody>\n",
       "    <tr>\n",
       "      <th>pulse</th>\n",
       "      <td>0.0957</td>\n",
       "    </tr>\n",
       "    <tr>\n",
       "      <th>packed cell volume</th>\n",
       "      <td>0.0863</td>\n",
       "    </tr>\n",
       "    <tr>\n",
       "      <th>specific code</th>\n",
       "      <td>0.0843</td>\n",
       "    </tr>\n",
       "    <tr>\n",
       "      <th>type</th>\n",
       "      <td>0.0819</td>\n",
       "    </tr>\n",
       "    <tr>\n",
       "      <th>site of lesion</th>\n",
       "      <td>0.0710</td>\n",
       "    </tr>\n",
       "    <tr>\n",
       "      <th>mucous membranes</th>\n",
       "      <td>0.0610</td>\n",
       "    </tr>\n",
       "    <tr>\n",
       "      <th>rectal temperature</th>\n",
       "      <td>0.0558</td>\n",
       "    </tr>\n",
       "    <tr>\n",
       "      <th>respiratory rate</th>\n",
       "      <td>0.0541</td>\n",
       "    </tr>\n",
       "    <tr>\n",
       "      <th>total protein</th>\n",
       "      <td>0.0494</td>\n",
       "    </tr>\n",
       "    <tr>\n",
       "      <th>pain</th>\n",
       "      <td>0.0461</td>\n",
       "    </tr>\n",
       "    <tr>\n",
       "      <th>abdomen</th>\n",
       "      <td>0.0367</td>\n",
       "    </tr>\n",
       "    <tr>\n",
       "      <th>capillary refill time</th>\n",
       "      <td>0.0319</td>\n",
       "    </tr>\n",
       "    <tr>\n",
       "      <th>temperature of extremities</th>\n",
       "      <td>0.0303</td>\n",
       "    </tr>\n",
       "    <tr>\n",
       "      <th>abdominocentesis appearance</th>\n",
       "      <td>0.0272</td>\n",
       "    </tr>\n",
       "    <tr>\n",
       "      <th>peripheral pulse</th>\n",
       "      <td>0.0230</td>\n",
       "    </tr>\n",
       "    <tr>\n",
       "      <th>surgery</th>\n",
       "      <td>0.0224</td>\n",
       "    </tr>\n",
       "    <tr>\n",
       "      <th>surgical lesion</th>\n",
       "      <td>0.0188</td>\n",
       "    </tr>\n",
       "    <tr>\n",
       "      <th>nasogastric reflux PH</th>\n",
       "      <td>0.0187</td>\n",
       "    </tr>\n",
       "    <tr>\n",
       "      <th>rectal examination</th>\n",
       "      <td>0.0184</td>\n",
       "    </tr>\n",
       "    <tr>\n",
       "      <th>abdomcentesis total protein</th>\n",
       "      <td>0.0161</td>\n",
       "    </tr>\n",
       "    <tr>\n",
       "      <th>abdominal distension</th>\n",
       "      <td>0.0159</td>\n",
       "    </tr>\n",
       "    <tr>\n",
       "      <th>nasogastric reflux</th>\n",
       "      <td>0.0118</td>\n",
       "    </tr>\n",
       "    <tr>\n",
       "      <th>peristalsis</th>\n",
       "      <td>0.0104</td>\n",
       "    </tr>\n",
       "    <tr>\n",
       "      <th>nasogastric tube</th>\n",
       "      <td>0.0098</td>\n",
       "    </tr>\n",
       "    <tr>\n",
       "      <th>subtype</th>\n",
       "      <td>0.0089</td>\n",
       "    </tr>\n",
       "    <tr>\n",
       "      <th>Age</th>\n",
       "      <td>0.0079</td>\n",
       "    </tr>\n",
       "    <tr>\n",
       "      <th>cp_data</th>\n",
       "      <td>0.0065</td>\n",
       "    </tr>\n",
       "  </tbody>\n",
       "</table>\n",
       "</div>"
      ],
      "text/plain": [
       "                             importance\n",
       "feature                                \n",
       "pulse                            0.0957\n",
       "packed cell volume               0.0863\n",
       "specific code                    0.0843\n",
       "type                             0.0819\n",
       "site of lesion                   0.0710\n",
       "mucous membranes                 0.0610\n",
       "rectal temperature               0.0558\n",
       "respiratory rate                 0.0541\n",
       "total protein                    0.0494\n",
       "pain                             0.0461\n",
       "abdomen                          0.0367\n",
       "capillary refill time            0.0319\n",
       "temperature of extremities       0.0303\n",
       "abdominocentesis appearance      0.0272\n",
       "peripheral pulse                 0.0230\n",
       "surgery                          0.0224\n",
       "surgical lesion                  0.0188\n",
       "nasogastric reflux PH            0.0187\n",
       "rectal examination               0.0184\n",
       "abdomcentesis total protein      0.0161\n",
       "abdominal distension             0.0159\n",
       "nasogastric reflux               0.0118\n",
       "peristalsis                      0.0104\n",
       "nasogastric tube                 0.0098\n",
       "subtype                          0.0089\n",
       "Age                              0.0079\n",
       "cp_data                          0.0065"
      ]
     },
     "execution_count": 50,
     "metadata": {},
     "output_type": "execute_result"
    }
   ],
   "source": [
    "# Creating a dataframe of features and their respective importances\n",
    "#\n",
    "impo_df = pd.DataFrame({'feature': X.columns, 'importance': np.round(clf.feature_importances_, 4)}).set_index('feature').sort_values(by = 'importance', ascending = False)\n",
    "impo_df"
   ]
  },
  {
   "cell_type": "code",
   "execution_count": 51,
   "metadata": {},
   "outputs": [
    {
     "data": {
      "image/png": "[encoded data removed]",
      "text/plain": [
       "<Figure size 720x720 with 1 Axes>"
      ]
     },
     "metadata": {},
     "output_type": "display_data"
    }
   ],
   "source": [
    "# Creating a bar chart of feature importance in descending order\n",
    "#\n",
    "impo_df = impo_df[:12].sort_values(by = 'importance', ascending = True)\n",
    "impo_df.plot(kind = 'barh', figsize = (10, 10), color = 'purple')\n",
    "plt.legend(loc = 'center right')\n",
    "plt.title('Bar chart showing feature importance', color = 'indigo', fontsize = 14)\n",
    "plt.xlabel('Features', fontsize = 12, color = 'indigo')\n",
    "plt.show()"
   ]
  },
  {
   "cell_type": "code",
   "execution_count": 52,
   "metadata": {},
   "outputs": [
    {
     "name": "stdout",
     "output_type": "stream",
     "text": [
      "The accuracy score is: 0.7666666666666667 and the f1 score is 0.766093810569841\n",
      "\n",
      "\n",
      "              precision    recall  f1-score   support\n",
      "\n",
      "           1       0.80      0.81      0.81        54\n",
      "           2       0.71      0.69      0.70        36\n",
      "\n",
      "    accuracy                           0.77        90\n",
      "   macro avg       0.76      0.75      0.76        90\n",
      "weighted avg       0.77      0.77      0.77        90\n",
      "\n"
     ]
    },
    {
     "data": {
      "image/png": "[encoded data removed]",
      "text/plain": [
       "<Figure size 576x432 with 2 Axes>"
      ]
     },
     "metadata": {},
     "output_type": "display_data"
    }
   ],
   "source": [
    "# Selecting only important features and the y variable\n",
    "#\n",
    "#X = X[['type', 'total protein', 'pulse', 'packed cell volume', 'specific code',  'rectal temperature', 'respiratory rate', 'site of lesion', 'mucous membrane', 'pain', 'abdomcentesis total protein', 'abdominal distension']]\n",
    "cols=['type','rectal temperature', 'pulse', 'respiratory rate', 'mucous membranes','pain','temperature of extremities','packed cell volume', 'total protein', 'abdomen','site of lesion',  'specific code']\n",
    "X=X[['type','rectal temperature', 'pulse', 'respiratory rate', 'mucous membranes','pain','temperature of extremities','packed cell volume', 'total protein', 'abdomen','site of lesion',  'specific code']]\n",
    "y= df[\"outcome\"]\n",
    "\n",
    "#standardize the dataset\n",
    "\n",
    "scaler =StandardScaler()\n",
    "X_scaled = scaler.fit_transform(X)\n",
    "\n",
    "#split into train and test set\n",
    "\n",
    "X_train,X_test,y_train,y_test = train_test_split(X_scaled,y,stratify=y,test_size=0.3,random_state=42)\n",
    "\n",
    "#creating a Random classifier\n",
    "clf= RandomForestClassifier(n_estimators=100,max_depth=13,criterion=\"entropy\")\n",
    "\n",
    "#training the model using the training sets\n",
    "clf.fit(X_train,y_train)\n",
    "\n",
    "#predicting the test set\n",
    "y_pred=clf.predict(X_test)\n",
    "\n",
    "# Measuring the accuracy of the model\n",
    "#\n",
    "print(f'The accuracy score is: {accuracy_score(y_test, y_pred)} and the f1 score is {f1_score(y_test, y_pred,average=\"weighted\")}')\n",
    "print('\\n')\n",
    "print(f'{classification_report(y_test, y_pred)}')\n",
    "\n",
    "from sklearn.metrics import confusion_matrix\n",
    "cm = confusion_matrix(y_test, y_pred)\n",
    "plt.figure(figsize=(8,6))\n",
    "sns.heatmap(cm, annot=True, fmt=\".2f\", linewidths=.5, square =True, cmap = 'Blues_r');\n",
    "plt.ylabel('Actual label')\n",
    "plt.xlabel('Predicted label')\n",
    "all_sample_title = 'Confusion Matrix'\n",
    "plt.title(all_sample_title, size = 15)\n",
    "plt.show()"
   ]
  },
  {
   "cell_type": "code",
   "execution_count": 53,
   "metadata": {},
   "outputs": [
    {
     "name": "stdout",
     "output_type": "stream",
     "text": [
      "Mean of cross validation scores is 0.8148129896682865\n",
      "Standard deviation of the cross validation scores is 0.04459971952630142\n"
     ]
    }
   ],
   "source": [
    "#Cross Validation to check for the stability of the model\n",
    "\n",
    "# Performing cross validation of ten folds\n",
    "#\n",
    "scores = cross_val_score(clf, X_scaled, y, scoring = 'f1', cv = 5)\n",
    "\n",
    "# Calculating the mean of the cross validation scores\n",
    "#\n",
    "print(f'Mean of cross validation scores is {scores.mean()}')\n",
    "\n",
    "# Calculating the variance of the cross validation scores from the mean\n",
    "#\n",
    "print(f'Standard deviation of the cross validation scores is {scores.std()}')"
   ]
  },
  {
   "cell_type": "code",
   "execution_count": 54,
   "metadata": {},
   "outputs": [
    {
     "name": "stdout",
     "output_type": "stream",
     "text": [
      "ROC AUC : 0.7546\n",
      "Cross validated ROC AUC : 0.8663\n"
     ]
    }
   ],
   "source": [
    "# compute ROC AUC\n",
    "\n",
    "from sklearn.metrics import roc_auc_score\n",
    "\n",
    "ROC_AUC = roc_auc_score(y_test, y_pred)\n",
    "\n",
    "print('ROC AUC : {:.4f}'.format(ROC_AUC))\n",
    "\n",
    "# calculate cross-validated ROC AUC \n",
    "\n",
    "from sklearn.model_selection import cross_val_score\n",
    "\n",
    "Cross_validated_ROC_AUC = cross_val_score(clf, X_train, y_train, cv=5, scoring='roc_auc').mean()\n",
    "\n",
    "print('Cross validated ROC AUC : {:.4f}'.format(Cross_validated_ROC_AUC))"
   ]
  },
  {
   "cell_type": "code",
   "execution_count": 55,
   "metadata": {},
   "outputs": [
    {
     "name": "stdout",
     "output_type": "stream",
     "text": [
      "Optimal number of features : 11\n",
      "Classifier score: 0.7667\n",
      "              precision    recall  f1-score   support\n",
      "\n",
      "           1       0.81      0.80      0.80        54\n",
      "           2       0.70      0.72      0.71        36\n",
      "\n",
      "    accuracy                           0.77        90\n",
      "   macro avg       0.76      0.76      0.76        90\n",
      "weighted avg       0.77      0.77      0.77        90\n",
      "\n"
     ]
    },
    {
     "data": {
      "image/png": "[encoded data removed]",
      "text/plain": [
       "<Figure size 576x432 with 2 Axes>"
      ]
     },
     "metadata": {},
     "output_type": "display_data"
    }
   ],
   "source": [
    "#Model Evaluation and improvement using Recursive Feature Elimination\n",
    "\n",
    "from sklearn.feature_selection import RFECV\n",
    "\n",
    "rfecv = RFECV(estimator=clf, step=1, cv=5, scoring='accuracy')\n",
    "\n",
    "rfecv = rfecv.fit(X_train, y_train)\n",
    "\n",
    "print(\"Optimal number of features : %d\" % rfecv.n_features_)\n",
    "\n",
    "# transform the training data\n",
    "\n",
    "X_train_rfecv = rfecv.transform(X_train)\n",
    "\n",
    "\n",
    "# train classifier\n",
    "\n",
    "clf.fit(X_train_rfecv, y_train)\n",
    "\n",
    "# test classifier on test data\n",
    "\n",
    "X_test_rfecv = rfecv.transform(X_test)\n",
    "\n",
    "y_pred_rfecv = clf.predict(X_test_rfecv)\n",
    "\n",
    "# print mean accuracy on transformed test data and labels\n",
    "\n",
    "print (\"Classifier score: {:.4f}\".format(clf.score(X_test_rfecv,y_test)))\n",
    "\n",
    "print(f'{classification_report(y_test, y_pred_rfecv)}')\n",
    "\n",
    "from sklearn.metrics import confusion_matrix\n",
    "cm = confusion_matrix(y_test, y_pred_rfecv)\n",
    "plt.figure(figsize=(8,6))\n",
    "sns.heatmap(cm, annot=True, fmt=\".2f\", linewidths=.5, square =True, cmap = 'Blues_r');\n",
    "plt.ylabel('Actual label')\n",
    "plt.xlabel('Predicted label')\n",
    "all_sample_title = 'Confusion Matrix'\n",
    "plt.title(all_sample_title, size = 15)\n",
    "\n",
    "\n",
    "plt.show()"
   ]
  },
  {
   "cell_type": "markdown",
   "metadata": {},
   "source": [
    "# Logistic Regression"
   ]
  },
  {
   "cell_type": "code",
   "execution_count": 56,
   "metadata": {},
   "outputs": [
    {
     "name": "stdout",
     "output_type": "stream",
     "text": [
      "The accuracy score is: 0.7222222222222222 and the f1 score is 0.7199373286329809\n",
      "\n",
      "\n",
      "              precision    recall  f1-score   support\n",
      "\n",
      "           1       0.75      0.80      0.77        54\n",
      "           2       0.67      0.61      0.64        36\n",
      "\n",
      "    accuracy                           0.72        90\n",
      "   macro avg       0.71      0.70      0.71        90\n",
      "weighted avg       0.72      0.72      0.72        90\n",
      "\n"
     ]
    },
    {
     "data": {
      "image/png": "[encoded data removed]",
      "text/plain": [
       "<Figure size 576x432 with 2 Axes>"
      ]
     },
     "metadata": {},
     "output_type": "display_data"
    }
   ],
   "source": [
    "#creating classifier\n",
    "\n",
    "log_reg = LogisticRegression()\n",
    "\n",
    "log_reg.fit(X_train,y_train)\n",
    "\n",
    "\n",
    "#predicting the test set\n",
    "y_pred=log_reg.predict(X_test)\n",
    "\n",
    "# Measuring the accuracy of the model\n",
    "#\n",
    "print(f'The accuracy score is: {accuracy_score(y_test, y_pred)} and the f1 score is {f1_score(y_test, y_pred,average=\"weighted\")}')\n",
    "print('\\n')\n",
    "print(f'{classification_report(y_test, y_pred)}')\n",
    "\n",
    "#confusion_matrix(y_test, y_pred)\n",
    "from sklearn.metrics import confusion_matrix\n",
    "cm = confusion_matrix(y_test, y_pred)\n",
    "plt.figure(figsize=(8,6))\n",
    "sns.heatmap(cm, annot=True, fmt=\".2f\", linewidths=.5, square =True, cmap = 'Blues_r');\n",
    "plt.ylabel('Actual label')\n",
    "plt.xlabel('Predicted label')\n",
    "all_sample_title = 'Confusion Matrix'\n",
    "plt.title(all_sample_title, size = 15)\n",
    "plt.show()"
   ]
  },
  {
   "cell_type": "code",
   "execution_count": 57,
   "metadata": {},
   "outputs": [
    {
     "name": "stdout",
     "output_type": "stream",
     "text": [
      "Training set score: 0.8134\n",
      "Test set score: 0.7222\n"
     ]
    }
   ],
   "source": [
    "# print the scores on training and test set TO CHECK FOR Overfitting\n",
    "\n",
    "print('Training set score: {:.4f}'.format(log_reg.score(X_train, y_train)))\n",
    "\n",
    "print('Test set score: {:.4f}'.format(log_reg.score(X_test, y_test)))"
   ]
  },
  {
   "cell_type": "code",
   "execution_count": 58,
   "metadata": {},
   "outputs": [
    {
     "name": "stdout",
     "output_type": "stream",
     "text": [
      "ROC AUC : 0.7037\n",
      "Cross validated ROC AUC : 0.8502\n"
     ]
    }
   ],
   "source": [
    "# compute ROC AUC\n",
    "\n",
    "from sklearn.metrics import roc_auc_score\n",
    "\n",
    "ROC_AUC = roc_auc_score(y_test, y_pred)\n",
    "\n",
    "print('ROC AUC : {:.4f}'.format(ROC_AUC))\n",
    "\n",
    "# calculate cross-validated ROC AUC \n",
    "\n",
    "from sklearn.model_selection import cross_val_score\n",
    "\n",
    "Cross_validated_ROC_AUC = cross_val_score(log_reg, X_train, y_train, cv=5, scoring='roc_auc').mean()\n",
    "\n",
    "print('Cross validated ROC AUC : {:.4f}'.format(Cross_validated_ROC_AUC))"
   ]
  },
  {
   "cell_type": "code",
   "execution_count": 59,
   "metadata": {},
   "outputs": [
    {
     "name": "stdout",
     "output_type": "stream",
     "text": [
      "Optimal number of features : 9\n",
      "Classifier score: 0.7222\n",
      "              precision    recall  f1-score   support\n",
      "\n",
      "           1       0.75      0.81      0.78        54\n",
      "           2       0.68      0.58      0.63        36\n",
      "\n",
      "    accuracy                           0.72        90\n",
      "   macro avg       0.71      0.70      0.70        90\n",
      "weighted avg       0.72      0.72      0.72        90\n",
      "\n"
     ]
    },
    {
     "data": {
      "image/png": "[encoded data removed]",
      "text/plain": [
       "<Figure size 576x432 with 2 Axes>"
      ]
     },
     "metadata": {},
     "output_type": "display_data"
    }
   ],
   "source": [
    "#Model Evaluation and improvement using Recursive Feature Elimination\n",
    "\n",
    "from sklearn.feature_selection import RFECV\n",
    "\n",
    "rfecv = RFECV(estimator=log_reg, step=1, cv=5, scoring='accuracy')\n",
    "\n",
    "rfecv = rfecv.fit(X_train, y_train)\n",
    "\n",
    "print(\"Optimal number of features : %d\" % rfecv.n_features_)\n",
    "\n",
    "# transform the training data\n",
    "\n",
    "X_train_rfecv = rfecv.transform(X_train)\n",
    "\n",
    "\n",
    "# train classifier\n",
    "\n",
    "log_reg.fit(X_train_rfecv, y_train)\n",
    "\n",
    "# test classifier on test data\n",
    "\n",
    "X_test_rfecv = rfecv.transform(X_test)\n",
    "\n",
    "y_pred_rfecv = log_reg.predict(X_test_rfecv)\n",
    "\n",
    "# print mean accuracy on transformed test data and labels\n",
    "\n",
    "print (\"Classifier score: {:.4f}\".format(log_reg.score(X_test_rfecv,y_test)))\n",
    "\n",
    "print(f'{classification_report(y_test, y_pred_rfecv)}')\n",
    "\n",
    "from sklearn.metrics import confusion_matrix\n",
    "cm = confusion_matrix(y_test, y_pred_rfecv)\n",
    "plt.figure(figsize=(8,6))\n",
    "sns.heatmap(cm, annot=True, fmt=\".2f\", linewidths=.5, square =True, cmap = 'Blues_r');\n",
    "plt.ylabel('Actual label')\n",
    "plt.xlabel('Predicted label')\n",
    "all_sample_title = 'Confusion Matrix'\n",
    "plt.title(all_sample_title, size = 15)\n",
    "\n",
    "\n",
    "plt.show()"
   ]
  },
  {
   "cell_type": "code",
   "execution_count": 60,
   "metadata": {},
   "outputs": [
    {
     "name": "stdout",
     "output_type": "stream",
     "text": [
      "Cross-validation scores:[0.71428571 0.69047619 0.78571429 0.83333333 0.85365854]\n",
      "Average cross-validation score: 0.7755\n"
     ]
    }
   ],
   "source": [
    "# Applying 5-Fold Cross Validation\n",
    "\n",
    "from sklearn.model_selection import cross_val_score\n",
    "\n",
    "scores = cross_val_score(log_reg, X_train, y_train, cv = 5, scoring='accuracy')\n",
    "\n",
    "print('Cross-validation scores:{}'.format(scores))\n",
    "\n",
    "# compute Average cross-validation score\n",
    "\n",
    "print('Average cross-validation score: {:.4f}'.format(scores.mean()))"
   ]
  },
  {
   "cell_type": "code",
   "execution_count": 61,
   "metadata": {},
   "outputs": [
    {
     "name": "stdout",
     "output_type": "stream",
     "text": [
      "GridSearch CV best score : 0.7755\n",
      "\n",
      "\n",
      "Parameters that give the best results : \n",
      "\n",
      " {'penalty': 'l2'}\n",
      "\n",
      "\n",
      "Estimator that was chosen by the search : \n",
      "\n",
      " LogisticRegression()\n",
      "GridSearch CV score on test set: 0.7222\n"
     ]
    }
   ],
   "source": [
    "#Hyperparameter optimization using GridSearchCV.\n",
    "\n",
    "from sklearn.model_selection import GridSearchCV\n",
    "\n",
    "\n",
    "parameters = [{'penalty':['l1','l2']}, \n",
    "              {'C':[1, 10, 100, 1000]}]\n",
    "\n",
    "\n",
    "\n",
    "grid_search = GridSearchCV(estimator = log_reg,  \n",
    "                           param_grid = parameters,\n",
    "                           scoring = 'accuracy',\n",
    "                           cv = 5,\n",
    "                           verbose=0)\n",
    "\n",
    "\n",
    "grid_search.fit(X_train, y_train)\n",
    "\n",
    "# examine the best model\n",
    "\n",
    "# best score achieved during the GridSearchCV\n",
    "print('GridSearch CV best score : {:.4f}\\n\\n'.format(grid_search.best_score_))\n",
    "\n",
    "# print parameters that give the best results\n",
    "print('Parameters that give the best results :','\\n\\n', (grid_search.best_params_))\n",
    "\n",
    "# print estimator that was chosen by the GridSearch\n",
    "print('\\n\\nEstimator that was chosen by the search :','\\n\\n', (grid_search.best_estimator_))\n",
    "\n",
    "# calculate GridSearch CV score on test set\n",
    "\n",
    "print('GridSearch CV score on test set: {0:0.4f}'.format(grid_search.score(X_test, y_test)))"
   ]
  },
  {
   "cell_type": "markdown",
   "metadata": {},
   "source": [
    "# Trying Different Classification Model"
   ]
  },
  {
   "cell_type": "code",
   "execution_count": 62,
   "metadata": {},
   "outputs": [
    {
     "name": "stdout",
     "output_type": "stream",
     "text": [
      "[06:34:25] WARNING: C:/Users/Administrator/workspace/xgboost-win64_release_1.4.0/src/learner.cc:1095: Starting in XGBoost 1.3.0, the default evaluation metric used with the objective 'binary:logistic' was changed from 'error' to 'logloss'. Explicitly set eval_metric if you'd like to restore the old behavior.\n",
      "[06:34:25] WARNING: C:/Users/Administrator/workspace/xgboost-win64_release_1.4.0/src/learner.cc:1095: Starting in XGBoost 1.3.0, the default evaluation metric used with the objective 'binary:logistic' was changed from 'error' to 'logloss'. Explicitly set eval_metric if you'd like to restore the old behavior.\n",
      "[06:34:25] WARNING: C:/Users/Administrator/workspace/xgboost-win64_release_1.4.0/src/learner.cc:1095: Starting in XGBoost 1.3.0, the default evaluation metric used with the objective 'binary:logistic' was changed from 'error' to 'logloss'. Explicitly set eval_metric if you'd like to restore the old behavior.\n",
      "[06:34:26] WARNING: C:/Users/Administrator/workspace/xgboost-win64_release_1.4.0/src/learner.cc:1095: Starting in XGBoost 1.3.0, the default evaluation metric used with the objective 'binary:logistic' was changed from 'error' to 'logloss'. Explicitly set eval_metric if you'd like to restore the old behavior.\n",
      "[06:34:26] WARNING: C:/Users/Administrator/workspace/xgboost-win64_release_1.4.0/src/learner.cc:1095: Starting in XGBoost 1.3.0, the default evaluation metric used with the objective 'binary:logistic' was changed from 'error' to 'logloss'. Explicitly set eval_metric if you'd like to restore the old behavior.\n",
      "[06:34:26] WARNING: C:/Users/Administrator/workspace/xgboost-win64_release_1.4.0/src/learner.cc:1095: Starting in XGBoost 1.3.0, the default evaluation metric used with the objective 'binary:logistic' was changed from 'error' to 'logloss'. Explicitly set eval_metric if you'd like to restore the old behavior.\n",
      "[06:34:26] WARNING: C:/Users/Administrator/workspace/xgboost-win64_release_1.4.0/src/learner.cc:1095: Starting in XGBoost 1.3.0, the default evaluation metric used with the objective 'binary:logistic' was changed from 'error' to 'logloss'. Explicitly set eval_metric if you'd like to restore the old behavior.\n",
      "[06:34:26] WARNING: C:/Users/Administrator/workspace/xgboost-win64_release_1.4.0/src/learner.cc:1095: Starting in XGBoost 1.3.0, the default evaluation metric used with the objective 'binary:logistic' was changed from 'error' to 'logloss'. Explicitly set eval_metric if you'd like to restore the old behavior.\n",
      "[06:34:27] WARNING: C:/Users/Administrator/workspace/xgboost-win64_release_1.4.0/src/learner.cc:1095: Starting in XGBoost 1.3.0, the default evaluation metric used with the objective 'binary:logistic' was changed from 'error' to 'logloss'. Explicitly set eval_metric if you'd like to restore the old behavior.\n",
      "[06:34:27] WARNING: C:/Users/Administrator/workspace/xgboost-win64_release_1.4.0/src/learner.cc:1095: Starting in XGBoost 1.3.0, the default evaluation metric used with the objective 'binary:logistic' was changed from 'error' to 'logloss'. Explicitly set eval_metric if you'd like to restore the old behavior.\n"
     ]
    },
    {
     "data": {
      "text/html": [
       "<div>\n",
       "<style scoped>\n",
       "    .dataframe tbody tr th:only-of-type {\n",
       "        vertical-align: middle;\n",
       "    }\n",
       "\n",
       "    .dataframe tbody tr th {\n",
       "        vertical-align: top;\n",
       "    }\n",
       "\n",
       "    .dataframe thead th {\n",
       "        text-align: right;\n",
       "    }\n",
       "</style>\n",
       "<table border=\"1\" class=\"dataframe\">\n",
       "  <thead>\n",
       "    <tr style=\"text-align: right;\">\n",
       "      <th></th>\n",
       "      <th>GradientBoosting</th>\n",
       "      <th>RandomForest</th>\n",
       "      <th>XGB</th>\n",
       "      <th>KNeighbors</th>\n",
       "      <th>GaussianNB</th>\n",
       "      <th>LogisticRegression</th>\n",
       "    </tr>\n",
       "  </thead>\n",
       "  <tbody>\n",
       "    <tr>\n",
       "      <th>1</th>\n",
       "      <td>0.733333</td>\n",
       "      <td>0.829268</td>\n",
       "      <td>0.722222</td>\n",
       "      <td>0.833333</td>\n",
       "      <td>0.727273</td>\n",
       "      <td>0.666667</td>\n",
       "    </tr>\n",
       "    <tr>\n",
       "      <th>2</th>\n",
       "      <td>0.864865</td>\n",
       "      <td>0.871795</td>\n",
       "      <td>0.744186</td>\n",
       "      <td>0.685714</td>\n",
       "      <td>0.812500</td>\n",
       "      <td>0.863636</td>\n",
       "    </tr>\n",
       "    <tr>\n",
       "      <th>3</th>\n",
       "      <td>0.800000</td>\n",
       "      <td>0.863636</td>\n",
       "      <td>0.800000</td>\n",
       "      <td>0.750000</td>\n",
       "      <td>0.750000</td>\n",
       "      <td>0.850000</td>\n",
       "    </tr>\n",
       "    <tr>\n",
       "      <th>4</th>\n",
       "      <td>0.777778</td>\n",
       "      <td>0.838710</td>\n",
       "      <td>0.833333</td>\n",
       "      <td>0.571429</td>\n",
       "      <td>0.878049</td>\n",
       "      <td>0.809524</td>\n",
       "    </tr>\n",
       "    <tr>\n",
       "      <th>5</th>\n",
       "      <td>0.800000</td>\n",
       "      <td>0.904762</td>\n",
       "      <td>0.833333</td>\n",
       "      <td>0.810811</td>\n",
       "      <td>0.800000</td>\n",
       "      <td>0.777778</td>\n",
       "    </tr>\n",
       "    <tr>\n",
       "      <th>6</th>\n",
       "      <td>0.777778</td>\n",
       "      <td>0.787879</td>\n",
       "      <td>0.648649</td>\n",
       "      <td>0.756757</td>\n",
       "      <td>0.809524</td>\n",
       "      <td>0.764706</td>\n",
       "    </tr>\n",
       "    <tr>\n",
       "      <th>7</th>\n",
       "      <td>0.833333</td>\n",
       "      <td>0.875000</td>\n",
       "      <td>0.923077</td>\n",
       "      <td>0.758621</td>\n",
       "      <td>0.733333</td>\n",
       "      <td>0.702703</td>\n",
       "    </tr>\n",
       "    <tr>\n",
       "      <th>8</th>\n",
       "      <td>0.800000</td>\n",
       "      <td>0.722222</td>\n",
       "      <td>0.700000</td>\n",
       "      <td>0.810811</td>\n",
       "      <td>0.689655</td>\n",
       "      <td>0.857143</td>\n",
       "    </tr>\n",
       "    <tr>\n",
       "      <th>9</th>\n",
       "      <td>0.736842</td>\n",
       "      <td>0.857143</td>\n",
       "      <td>0.787879</td>\n",
       "      <td>0.789474</td>\n",
       "      <td>0.733333</td>\n",
       "      <td>0.742857</td>\n",
       "    </tr>\n",
       "    <tr>\n",
       "      <th>10</th>\n",
       "      <td>0.800000</td>\n",
       "      <td>0.800000</td>\n",
       "      <td>0.894737</td>\n",
       "      <td>0.731707</td>\n",
       "      <td>0.900000</td>\n",
       "      <td>0.789474</td>\n",
       "    </tr>\n",
       "    <tr>\n",
       "      <th>mean</th>\n",
       "      <td>0.792393</td>\n",
       "      <td>0.835041</td>\n",
       "      <td>0.788742</td>\n",
       "      <td>0.749866</td>\n",
       "      <td>0.783367</td>\n",
       "      <td>0.782449</td>\n",
       "    </tr>\n",
       "    <tr>\n",
       "      <th>std</th>\n",
       "      <td>0.037631</td>\n",
       "      <td>0.050341</td>\n",
       "      <td>0.082034</td>\n",
       "      <td>0.072369</td>\n",
       "      <td>0.065135</td>\n",
       "      <td>0.062598</td>\n",
       "    </tr>\n",
       "  </tbody>\n",
       "</table>\n",
       "</div>"
      ],
      "text/plain": [
       "      GradientBoosting  RandomForest       XGB  KNeighbors  GaussianNB  \\\n",
       "1             0.733333      0.829268  0.722222    0.833333    0.727273   \n",
       "2             0.864865      0.871795  0.744186    0.685714    0.812500   \n",
       "3             0.800000      0.863636  0.800000    0.750000    0.750000   \n",
       "4             0.777778      0.838710  0.833333    0.571429    0.878049   \n",
       "5             0.800000      0.904762  0.833333    0.810811    0.800000   \n",
       "6             0.777778      0.787879  0.648649    0.756757    0.809524   \n",
       "7             0.833333      0.875000  0.923077    0.758621    0.733333   \n",
       "8             0.800000      0.722222  0.700000    0.810811    0.689655   \n",
       "9             0.736842      0.857143  0.787879    0.789474    0.733333   \n",
       "10            0.800000      0.800000  0.894737    0.731707    0.900000   \n",
       "mean          0.792393      0.835041  0.788742    0.749866    0.783367   \n",
       "std           0.037631      0.050341  0.082034    0.072369    0.065135   \n",
       "\n",
       "      LogisticRegression  \n",
       "1               0.666667  \n",
       "2               0.863636  \n",
       "3               0.850000  \n",
       "4               0.809524  \n",
       "5               0.777778  \n",
       "6               0.764706  \n",
       "7               0.702703  \n",
       "8               0.857143  \n",
       "9               0.742857  \n",
       "10              0.789474  \n",
       "mean            0.782449  \n",
       "std             0.062598  "
      ]
     },
     "execution_count": 62,
     "metadata": {},
     "output_type": "execute_result"
    }
   ],
   "source": [
    "# Importing different classification models\n",
    "\n",
    "from sklearn.model_selection import KFold, cross_val_score\n",
    "from sklearn.ensemble import GradientBoostingClassifier\n",
    "from sklearn.ensemble import RandomForestClassifier\n",
    "from sklearn.naive_bayes import GaussianNB\n",
    "from sklearn.neighbors import KNeighborsClassifier\n",
    "from xgboost import XGBClassifier\n",
    "from sklearn.linear_model import LogisticRegression\n",
    "import warnings\n",
    "warnings.filterwarnings('ignore')\n",
    "\n",
    "# Creating a list of classifier algorithms to compare with\n",
    "#\n",
    "models = [GradientBoostingClassifier(), RandomForestClassifier(), XGBClassifier(), KNeighborsClassifier(),\\\n",
    "          GaussianNB(), LogisticRegression()]\n",
    "\n",
    "# Creating lists of the algorithms, to store the accuracy scores of each fold\n",
    "#\n",
    "GradientBoosting, RandomForest, XGB, KNeighbors, GaussianNB, LogisticRegression = ([] for x in range(6))\n",
    "\n",
    "# Creating a list containig the list of each algorithm. Created for easy iteration\n",
    "#\n",
    "model_list = [GradientBoosting, RandomForest, XGB, KNeighbors, GaussianNB, LogisticRegression]\n",
    "\n",
    "# Selecting the independent variables and the target variable\n",
    "\n",
    "X= df.drop('outcome', axis=1)\n",
    "y= df[\"outcome\"]\n",
    "\n",
    "#standardizing the dataset\n",
    "scaler =StandardScaler()\n",
    "X_scaled =scaler.fit_transform(X)\n",
    "\n",
    "#splitting the dataset \n",
    "#X_train, X_test, y_train, y_test = train_test_split(X_scaled, y, test_size = 0.3, random_state = 42)\n",
    "\n",
    "# Creating a cross validation of 10 folds\n",
    "#\n",
    "kfold  = KFold(n_splits=10, shuffle = True)\n",
    "\n",
    "# Iterating through each model and appending the scores of each fold to the appriopriate list\n",
    "#\n",
    "for i, j in zip(models, model_list):\n",
    "  j.extend(list(cross_val_score(i, X_scaled, y, scoring = 'f1', cv = kfold)))\n",
    "  \n",
    "# Creating a dataframe of all the scores from the iterations for each model\n",
    "#\n",
    "scores = pd.DataFrame({'GradientBoosting': GradientBoosting, 'RandomForest': RandomForest, 'XGB': XGB,\\\n",
    "              'KNeighbors': KNeighbors, 'GaussianNB': GaussianNB, 'LogisticRegression': LogisticRegression}, index = range(1, 11))\n",
    "\n",
    "# Calculating the mean and standard deviation score of each algorithm\n",
    "#\n",
    "scores.loc['mean'] = scores.mean()\n",
    "scores.loc['std'] = scores.std()\n",
    "\n",
    "# Previewing the scores dataframe\n",
    "#\n",
    "scores"
   ]
  },
  {
   "cell_type": "raw",
   "metadata": {},
   "source": [
    "Results and Summary\n",
    "-Tried Various Algorithms and most of the models had good performances. \n",
    "-the performance of model after hyperparameter tuning using hyperopt had approx 80% accuracy with Random Forest.\n",
    "-the ROC AUC of Random forest model after cross-validation had 0.83 which approaches towards 1.\n",
    "-i noticed cross- validation and grid-searchcv didn't necessarily improve the performance in some algorithms\n",
    "\n",
    "\n",
    "#THANKS for READING,Would really appreciate some feedbacks!\n"
   ]
  }
 ],
 "metadata": {
  "kernelspec": {
   "display_name": "Python 3",
   "language": "python",
   "name": "python3"
  },
  "language_info": {
   "codemirror_mode": {
    "name": "ipython",
    "version": 3
   },
   "file_extension": ".py",
   "mimetype": "text/x-python",
   "name": "python",
   "nbconvert_exporter": "python",
   "pygments_lexer": "ipython3",
   "version": "3.8.3"
  }
 },
 "nbformat": 4,
 "nbformat_minor": 4
}
